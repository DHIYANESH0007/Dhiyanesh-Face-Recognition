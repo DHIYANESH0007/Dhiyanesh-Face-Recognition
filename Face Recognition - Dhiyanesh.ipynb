{
 "cells": [
  {
   "cell_type": "code",
   "execution_count": 1,
   "metadata": {},
   "outputs": [],
   "source": [
    "import numpy as np\n",
    "import matplotlib.pyplot as plt\n",
    "from sklearn.model_selection import train_test_split\n",
    "import tensorflow as tf"
   ]
  },
  {
   "cell_type": "code",
   "execution_count": 2,
   "metadata": {},
   "outputs": [],
   "source": [
    "import cv2"
   ]
  },
  {
   "cell_type": "code",
   "execution_count": 15,
   "metadata": {},
   "outputs": [],
   "source": [
    "a = cv2.imread('uuu.jpg')"
   ]
  },
  {
   "cell_type": "code",
   "execution_count": 11,
   "metadata": {},
   "outputs": [
    {
     "data": {
      "text/plain": [
       "(197, 156, 3)"
      ]
     },
     "execution_count": 11,
     "metadata": {},
     "output_type": "execute_result"
    }
   ],
   "source": [
    "a.shape"
   ]
  },
  {
   "cell_type": "code",
   "execution_count": 16,
   "metadata": {},
   "outputs": [],
   "source": [
    "path = ['uuu.jpg','vvv.jpg','www.jpg','xxx.jpg','yyy.jpg','zzz.jpg']"
   ]
  },
  {
   "cell_type": "code",
   "execution_count": 19,
   "metadata": {},
   "outputs": [],
   "source": [
    "    images = []\n",
    "    \n",
    "    for d in range(10):\n",
    "            for p in path:\n",
    "                img = cv2.imread(p, cv2.IMREAD_GRAYSCALE)\n",
    "                img = cv2.resize(img, (64, 64))\n",
    "                images.append(img)\n",
    "    \n",
    "    images = np.array(images, dtype = float)"
   ]
  },
  {
   "cell_type": "code",
   "execution_count": 20,
   "metadata": {},
   "outputs": [
    {
     "data": {
      "text/plain": [
       "(60, 64, 64)"
      ]
     },
     "execution_count": 20,
     "metadata": {},
     "output_type": "execute_result"
    }
   ],
   "source": [
    "images.shape"
   ]
  },
  {
   "cell_type": "code",
   "execution_count": 25,
   "metadata": {},
   "outputs": [],
   "source": [
    "X = images\n",
    "Y = []\n",
    "target = [1,2,3,4,5,6]"
   ]
  },
  {
   "cell_type": "code",
   "execution_count": 26,
   "metadata": {},
   "outputs": [],
   "source": [
    "for d in range(10):\n",
    "            for p in target:\n",
    "                Y.append(p)"
   ]
  },
  {
   "cell_type": "code",
   "execution_count": 27,
   "metadata": {},
   "outputs": [
    {
     "data": {
      "text/plain": [
       "[1,\n",
       " 2,\n",
       " 3,\n",
       " 4,\n",
       " 5,\n",
       " 6,\n",
       " 1,\n",
       " 2,\n",
       " 3,\n",
       " 4,\n",
       " 5,\n",
       " 6,\n",
       " 1,\n",
       " 2,\n",
       " 3,\n",
       " 4,\n",
       " 5,\n",
       " 6,\n",
       " 1,\n",
       " 2,\n",
       " 3,\n",
       " 4,\n",
       " 5,\n",
       " 6,\n",
       " 1,\n",
       " 2,\n",
       " 3,\n",
       " 4,\n",
       " 5,\n",
       " 6,\n",
       " 1,\n",
       " 2,\n",
       " 3,\n",
       " 4,\n",
       " 5,\n",
       " 6,\n",
       " 1,\n",
       " 2,\n",
       " 3,\n",
       " 4,\n",
       " 5,\n",
       " 6,\n",
       " 1,\n",
       " 2,\n",
       " 3,\n",
       " 4,\n",
       " 5,\n",
       " 6,\n",
       " 1,\n",
       " 2,\n",
       " 3,\n",
       " 4,\n",
       " 5,\n",
       " 6,\n",
       " 1,\n",
       " 2,\n",
       " 3,\n",
       " 4,\n",
       " 5,\n",
       " 6]"
      ]
     },
     "execution_count": 27,
     "metadata": {},
     "output_type": "execute_result"
    }
   ],
   "source": [
    "Y"
   ]
  },
  {
   "cell_type": "code",
   "execution_count": 30,
   "metadata": {},
   "outputs": [],
   "source": [
    "Y = np.array(Y)"
   ]
  },
  {
   "cell_type": "code",
   "execution_count": 31,
   "metadata": {},
   "outputs": [
    {
     "data": {
      "text/plain": [
       "(60,)"
      ]
     },
     "execution_count": 31,
     "metadata": {},
     "output_type": "execute_result"
    }
   ],
   "source": [
    "Y.shape"
   ]
  },
  {
   "cell_type": "code",
   "execution_count": 32,
   "metadata": {},
   "outputs": [],
   "source": [
    "Y = Y.reshape(-1,1)"
   ]
  },
  {
   "cell_type": "code",
   "execution_count": 33,
   "metadata": {},
   "outputs": [
    {
     "data": {
      "text/plain": [
       "(60, 1)"
      ]
     },
     "execution_count": 33,
     "metadata": {},
     "output_type": "execute_result"
    }
   ],
   "source": [
    "Y.shape"
   ]
  },
  {
   "cell_type": "code",
   "execution_count": 35,
   "metadata": {},
   "outputs": [
    {
     "name": "stdout",
     "output_type": "stream",
     "text": [
      "WARNING:tensorflow:From C:\\Users\\Vijay\\Anaconda3\\lib\\site-packages\\tensorflow\\python\\ops\\init_ops.py:1251: calling VarianceScaling.__init__ (from tensorflow.python.ops.init_ops) with dtype is deprecated and will be removed in a future version.\n",
      "Instructions for updating:\n",
      "Call initializer instance with the dtype argument instead of passing it to the constructor\n"
     ]
    }
   ],
   "source": [
    "model = tf.keras.models.Sequential([\n",
    "    \n",
    "    \n",
    "    tf.keras.layers.Conv2D(8, kernel_size=3, activation='relu', input_shape=(64,64,1)),  \n",
    "    tf.keras.layers.MaxPool2D(pool_size=(2, 2),),\n",
    "    \n",
    "    \n",
    "    tf.keras.layers.Conv2D(16, kernel_size=3, activation='relu'),  \n",
    "    tf.keras.layers.MaxPool2D(pool_size=(2, 2),),\n",
    "\n",
    "    tf.keras.layers.Flatten(),\n",
    "    \n",
    "    \n",
    "    tf.keras.layers.Dense(200, activation=tf.nn.relu),\n",
    "    tf.keras.layers.Dense(40, activation=tf.nn.softmax)\n",
    "])\n",
    "\n",
    "model.compile(\n",
    "    optimizer='adam',\n",
    "    loss='sparse_categorical_crossentropy',\n",
    "    metrics = ['accuracy']\n",
    ")"
   ]
  },
  {
   "cell_type": "code",
   "execution_count": 36,
   "metadata": {},
   "outputs": [
    {
     "name": "stdout",
     "output_type": "stream",
     "text": [
      "Epoch 1/20\n",
      "60/60 [==============================] - 0s 6ms/sample - loss: 150.8196 - acc: 0.0833\n",
      "Epoch 2/20\n",
      "60/60 [==============================] - 0s 998us/sample - loss: 92.5181 - acc: 0.3000\n",
      "Epoch 3/20\n",
      "60/60 [==============================] - 0s 1ms/sample - loss: 54.4127 - acc: 0.2667\n",
      "Epoch 4/20\n",
      "60/60 [==============================] - 0s 1ms/sample - loss: 21.6434 - acc: 0.5167\n",
      "Epoch 5/20\n",
      "60/60 [==============================] - 0s 1ms/sample - loss: 14.3240 - acc: 0.7833\n",
      "Epoch 6/20\n",
      "60/60 [==============================] - 0s 1ms/sample - loss: 22.4025 - acc: 0.5667\n",
      "Epoch 7/20\n",
      "60/60 [==============================] - 0s 1ms/sample - loss: 3.0928 - acc: 0.8000\n",
      "Epoch 8/20\n",
      "60/60 [==============================] - 0s 1ms/sample - loss: 5.7618e-07 - acc: 1.0000\n",
      "Epoch 9/20\n",
      "60/60 [==============================] - 0s 981us/sample - loss: 4.1723e-08 - acc: 1.0000\n",
      "Epoch 10/20\n",
      "60/60 [==============================] - 0s 981us/sample - loss: 0.1748 - acc: 0.9000\n",
      "Epoch 11/20\n",
      "60/60 [==============================] - 0s 1ms/sample - loss: 0.0012 - acc: 1.0000\n",
      "Epoch 12/20\n",
      "60/60 [==============================] - 0s 1ms/sample - loss: 0.1606 - acc: 0.9167\n",
      "Epoch 13/20\n",
      "60/60 [==============================] - 0s 1ms/sample - loss: 3.0298e-06 - acc: 1.0000\n",
      "Epoch 14/20\n",
      "60/60 [==============================] - 0s 1ms/sample - loss: 0.0000e+00 - acc: 1.0000\n",
      "Epoch 15/20\n",
      "60/60 [==============================] - 0s 1ms/sample - loss: 9.9341e-09 - acc: 1.0000\n",
      "Epoch 16/20\n",
      "60/60 [==============================] - 0s 997us/sample - loss: 1.9868e-08 - acc: 1.0000\n",
      "Epoch 17/20\n",
      "60/60 [==============================] - 0s 1ms/sample - loss: 3.9736e-08 - acc: 1.0000\n",
      "Epoch 18/20\n",
      "60/60 [==============================] - 0s 1ms/sample - loss: 3.9736e-08 - acc: 1.0000\n",
      "Epoch 19/20\n",
      "60/60 [==============================] - 0s 1ms/sample - loss: 3.9736e-08 - acc: 1.0000\n",
      "Epoch 20/20\n",
      "60/60 [==============================] - 0s 1ms/sample - loss: 3.9736e-08 - acc: 1.0000\n"
     ]
    },
    {
     "data": {
      "text/plain": [
       "<tensorflow.python.keras.callbacks.History at 0x2b6d39edf28>"
      ]
     },
     "execution_count": 36,
     "metadata": {},
     "output_type": "execute_result"
    }
   ],
   "source": [
    "model.fit(images.reshape(-1,64,64,1),Y,epochs = 20)"
   ]
  },
  {
   "cell_type": "code",
   "execution_count": 41,
   "metadata": {},
   "outputs": [],
   "source": [
    "test = [] \n",
    "\n",
    "for p in path:\n",
    "    img = cv2.imread(p, cv2.IMREAD_GRAYSCALE)\n",
    "    img = cv2.resize(img, (64, 64))\n",
    "    test.append(img)\n",
    "    \n",
    "test = np.array(test, dtype = float)"
   ]
  },
  {
   "cell_type": "code",
   "execution_count": 42,
   "metadata": {},
   "outputs": [
    {
     "data": {
      "text/plain": [
       "(6, 64, 64)"
      ]
     },
     "execution_count": 42,
     "metadata": {},
     "output_type": "execute_result"
    }
   ],
   "source": [
    "test.shape"
   ]
  },
  {
   "cell_type": "code",
   "execution_count": 44,
   "metadata": {},
   "outputs": [],
   "source": [
    "Y_test = np.array([1,2,3,4,5,6])"
   ]
  },
  {
   "cell_type": "code",
   "execution_count": 45,
   "metadata": {},
   "outputs": [
    {
     "data": {
      "text/plain": [
       "(6,)"
      ]
     },
     "execution_count": 45,
     "metadata": {},
     "output_type": "execute_result"
    }
   ],
   "source": [
    "Y_test.shape\n"
   ]
  },
  {
   "cell_type": "code",
   "execution_count": 47,
   "metadata": {},
   "outputs": [],
   "source": [
    "Y_test = Y_test.reshape(6,1)"
   ]
  },
  {
   "cell_type": "code",
   "execution_count": 48,
   "metadata": {},
   "outputs": [
    {
     "data": {
      "text/plain": [
       "(6, 1)"
      ]
     },
     "execution_count": 48,
     "metadata": {},
     "output_type": "execute_result"
    }
   ],
   "source": [
    "Y_test.shape"
   ]
  },
  {
   "cell_type": "code",
   "execution_count": 49,
   "metadata": {},
   "outputs": [
    {
     "name": "stdout",
     "output_type": "stream",
     "text": [
      "\r",
      "6/6 [==============================] - 0s 22ms/sample - loss: 5.9605e-08 - acc: 1.0000\n"
     ]
    },
    {
     "data": {
      "text/plain": [
       "[5.960463411724959e-08, 1.0]"
      ]
     },
     "execution_count": 49,
     "metadata": {},
     "output_type": "execute_result"
    }
   ],
   "source": [
    "model.evaluate(test.reshape(-1,64,64,1),Y_test)"
   ]
  },
  {
   "cell_type": "code",
   "execution_count": null,
   "metadata": {},
   "outputs": [],
   "source": []
  }
 ],
 "metadata": {
  "kernelspec": {
   "display_name": "Python 3",
   "language": "python",
   "name": "python3"
  },
  "language_info": {
   "codemirror_mode": {
    "name": "ipython",
    "version": 3
   },
   "file_extension": ".py",
   "mimetype": "text/x-python",
   "name": "python",
   "nbconvert_exporter": "python",
   "pygments_lexer": "ipython3",
   "version": "3.7.3"
  }
 },
 "nbformat": 4,
 "nbformat_minor": 2
}
